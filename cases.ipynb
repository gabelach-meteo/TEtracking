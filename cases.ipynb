{
 "cells": [
  {
   "cell_type": "code",
   "execution_count": 1,
   "id": "633f40a9-eb82-4f64-a518-43f3bcff4dbd",
   "metadata": {},
   "outputs": [
    {
     "data": {
      "text/plain": [
       "<module 'stormcoupling' from '/lustre06/project/6084782/shared/gabe-fall-2025/TEtracking/stormcoupling.py'>"
      ]
     },
     "execution_count": 1,
     "metadata": {},
     "output_type": "execute_result"
    }
   ],
   "source": [
    "import warnings\n",
    "warnings.filterwarnings('ignore')\n",
    "import numpy as np\n",
    "import pandas as pd\n",
    "import xarray as xr\n",
    "import cartopy.crs as ccrs\n",
    "import matplotlib.patches as mpatches\n",
    "import cartopy.feature as cfeature\n",
    "from multiprocessing import Pool\n",
    "from multiprocessing.dummy import Pool as ThreadPool\n",
    "import matplotlib.pyplot as plt\n",
    "import time\n",
    "import importlib\n",
    "import stormcoupling as sc\n",
    "import glob\n",
    "from scipy import stats\n",
    "import scipy\n",
    "from geopy import distance\n",
    "from scipy import interpolate\n",
    "from mpl_toolkits.basemap import Basemap\n",
    "from mpl_toolkits.basemap import cm\n",
    "import xlrd\n",
    "import csv\n",
    "import os\n",
    "import math\n",
    "import matplotlib.colors\n",
    "import metpy\n",
    "from metpy.interpolate import interpolate_to_isosurface\n",
    "from metpy.calc import dewpoint_from_specific_humidity\n",
    "from metpy.calc import equivalent_potential_temperature\n",
    "from matplotlib.ticker import LogFormatterSciNotation\n",
    "import matplotlib.patheffects as pe\n",
    "from matplotlib.lines import Line2D\n",
    "import matplotlib.lines as mlines\n",
    "import matplotlib.patches as mpatches\n",
    "from metpy.units import units \n",
    "import metpy.calc as mpcalc\n",
    "import matplotlib.colors as mcolors\n",
    "from mpl_toolkits.axes_grid1.inset_locator import inset_axes\n",
    "import imageio.v2 as imageio\n",
    "from PIL import Image, ImageOps\n",
    "importlib.reload(sc)"
   ]
  },
  {
   "cell_type": "code",
   "execution_count": 2,
   "id": "b07ad4a7-cd53-49f1-b48e-935b8ed2ed62",
   "metadata": {},
   "outputs": [],
   "source": [
    "#### takes output data from StitchNodes (tracks) and organizes it into datafram with individual track IDs\n",
    "\n",
    "def parse_te_tracks(filename):\n",
    "    tracks = []\n",
    "    trackid = -1\n",
    "    with open(filename) as f:\n",
    "        current_id = None\n",
    "        for line in f:\n",
    "            parts = line.strip().split()\n",
    "            if not parts:\n",
    "                continue\n",
    "            if parts[0] == \"start\":\n",
    "                length = int(parts[1])  # track ID\n",
    "                trackid = trackid+1\n",
    "            else:\n",
    "                lon, lat, msl, year, month, day, hour = parts[-7:]\n",
    "                tracks.append({\n",
    "                    \"id\": trackid,\n",
    "                    \"length\": length,\n",
    "                    \"lon\": float(lon),\n",
    "                    \"lat\": float(lat),\n",
    "                    \"msl\": float(msl),\n",
    "                    \"time\": pd.Timestamp(int(year), int(month), int(day), int(hour))\n",
    "                })\n",
    "    return pd.DataFrame(tracks)"
   ]
  },
  {
   "cell_type": "code",
   "execution_count": 3,
   "id": "9d6d7461-578a-407c-a002-69144bd3e6bc",
   "metadata": {},
   "outputs": [],
   "source": [
    "#### locates points from track dataframe at specific time\n",
    "\n",
    "def findDataAtTime(year,month,day,hour,var,tracks,data):\n",
    "    timestamp = f\"{year}-{month}-{day}T{hour}:00\"\n",
    "    indices_time1 = tracks[tracks['time'] == timestamp]\n",
    "    data_time1 = data[var].sel(valid_time=timestamp)\n",
    "    return indices_time1, data_time1, timestamp"
   ]
  },
  {
   "cell_type": "code",
   "execution_count": 4,
   "id": "0b166c00-8349-4b94-9541-a81874e0b89a",
   "metadata": {},
   "outputs": [],
   "source": [
    "#### locates points from track dataframe at specific time (returns both cyclones (data1) and anticyclones (data2))\n",
    "\n",
    "\n",
    "def findDataAtTime2(year,month,day,hour,var,tracks1,tracks2,data):\n",
    "    timestamp = f\"{year}-{month}-{day}T{hour}:00\"\n",
    "    indices_time1 = tracks1[tracks1['time'] == timestamp]\n",
    "    indices_time2 = tracks2[tracks2['time'] == timestamp]\n",
    "    data_time1 = data[var].sel(valid_time=timestamp)\n",
    "    return indices_time1, indices_time2, data_time1, timestamp"
   ]
  },
  {
   "cell_type": "code",
   "execution_count": 5,
   "id": "a8af0a75-77ba-4432-82d8-ab1a56bf109c",
   "metadata": {},
   "outputs": [],
   "source": [
    "#### locates points from track dataframe at specific time (returns both cyclones (data1) and anticyclones (data2)) but takes timestamp object\n",
    "\n",
    "\n",
    "def findDataAtTime2_timestamp(timestamp,var,tracks1,tracks2,data):\n",
    "    indices_time1 = tracks1[tracks1['time'] == timestamp]\n",
    "    indices_time2 = tracks2[tracks2['time'] == timestamp]\n",
    "    data_time1 = data[var].sel(valid_time=timestamp)\n",
    "    return indices_time1, indices_time2, data_time1, timestamp"
   ]
  },
  {
   "cell_type": "code",
   "execution_count": 6,
   "id": "3e92c92a-ecdf-4beb-8fb8-c699e1af3512",
   "metadata": {},
   "outputs": [],
   "source": [
    "## plots contour map of MSL data (takes output of findDataAtTime functions)\n",
    "\n",
    "def plotMSLAtTime2(output_FindData, bounds=[-175, -30, 20, 75]):\n",
    "    indices1 = output_FindData[0]\n",
    "    indices2 = output_FindData[1]\n",
    "    data1 = output_FindData[2]\n",
    "    fig=plt.figure(figsize=(12,8))\n",
    "    ax = plt.axes(projection=ccrs.PlateCarree())\n",
    "    #ax.stock_img()\n",
    "    ax.coastlines(color='gray')\n",
    "    ax.gridlines(draw_labels=True)\n",
    "    ax.add_feature(\n",
    "        cfeature.LAND, \n",
    "        facecolor='palegoldenrod',   # any Matplotlib color\n",
    "        zorder=0                 \n",
    "    )\n",
    "\n",
    "    ax.add_feature(\n",
    "        cfeature.OCEAN, \n",
    "        facecolor='lightblue',\n",
    "        zorder=0\n",
    "    )\n",
    "    ax.add_feature(\n",
    "        cfeature.LAKES, \n",
    "        facecolor='lightblue',\n",
    "        zorder=0\n",
    "    )\n",
    "    ax.add_feature(\n",
    "        cfeature.BORDERS, \n",
    "        facecolor='gray',\n",
    "        zorder=0\n",
    "    )\n",
    "    ax.add_feature(\n",
    "        cfeature.RIVERS, \n",
    "        facecolor='lightblue',\n",
    "        zorder=0\n",
    "    )\n",
    "    # basic stats\n",
    "    msl_hpa = (data1 / 100.).values\n",
    "    lon = data1['longitude'].values\n",
    "    lat = data1['latitude'].values\n",
    "    vmin = float(np.nanmin(msl_hpa))\n",
    "    vmax = float(np.nanmax(msl_hpa))\n",
    "\n",
    "    \n",
    "    coarse_step = 4.0    # coarse contour spacing (hPa)\n",
    "    fine_step   = 4.0    # fine contour spacing near minima (hPa)\n",
    "    fine_range  = 12.0   # create finer spacing for values within (vmin, vmin+fine_range)\n",
    "\n",
    "    # make coarse levels (descending or ascending doesn't matter for list)\n",
    "    coarse_levels = np.arange(np.floor(vmin - 0.5*coarse_step),\n",
    "                              np.ceil(vmax + 0.5*coarse_step),\n",
    "                              coarse_step)\n",
    "\n",
    "    # make fine levels near minima\n",
    "    fine_levels = np.arange(np.floor(vmin - 0.5*fine_step),\n",
    "                            vmin + fine_range + 0.0001,\n",
    "                            fine_step)\n",
    "\n",
    "    # combine, remove duplicates and sort\n",
    "    levels = np.unique(np.concatenate([coarse_levels, fine_levels]))\n",
    "    levels = np.sort(levels)\n",
    "    # Plot center of each track at time t\n",
    "    for index in zip(indices1.lon, indices1.lat, indices1.msl):\n",
    "        mslval = round(index[2]/100)\n",
    "        ax[0].text(index[0], index[1], 'L', c='red', fontsize=15, ha='center', va='center', fontweight='bold', zorder=4)\n",
    "        ax[0].text(index[0], index[1]-1.2, mslval, c='red', fontsize=10, ha='center', va='top', fontweight='bold', zorder=4)\n",
    "    for index in zip(indices2.lon, indices2.lat, indices2.msl):\n",
    "        mslval = round(index[2]/100)\n",
    "        ax[0].text(index[0], index[1], 'H', c='blue', fontsize=15, ha='center', va='center', fontweight='bold', zorder=4)\n",
    "        ax[0].text(index[0], index[1]-1.2, mslval, c='blue', fontsize=10, ha='center', va='top', fontweight='bold', zorder=4)\n",
    "    contour = ax.contour(\n",
    "        data1['longitude'],\n",
    "        data1['latitude'],\n",
    "        data1 / 100,  # convert from Pa to hPa \n",
    "        levels=levels,\n",
    "        transform=ccrs.PlateCarree(),\n",
    "        colors='black',\n",
    "        linewidths=1,\n",
    "        zorder=1\n",
    "    )\n",
    "\n",
    "    ax.clabel(contour, inline=True, fontsize=8, fmt=\"%.0f\",zorder=3)\n",
    "    ax.set_extent(bounds, crs=ccrs.PlateCarree())\n",
    "    ax.set_title(f'msl, time = {output_FindData[3]}')\n",
    "    #plt.savefig('test.jpg', bbox_inches='tight')\n",
    "    plt.savefig(f'plots/random/msl_{output_FindData[3]}.png', bbox_inches='tight')\n",
    "    plt.show()"
   ]
  },
  {
   "cell_type": "code",
   "execution_count": 7,
   "id": "d2b6baf2-4975-4459-bd36-08d91d536efe",
   "metadata": {},
   "outputs": [],
   "source": [
    "## same as previous but gradient plot for meteorological variables\n",
    "\n",
    "def plotGRADAtTime2(output_FindData, cmap1, vmin1=None, vmax1=None):\n",
    "    indices1 = output_FindData[0]\n",
    "    indices2 = output_FindData[1]\n",
    "    data1 = output_FindData[1]\n",
    "    p = None\n",
    "    if 'pressure_level' in list(data1.coords):\n",
    "        first_p = data1.pressure_level.data[0]\n",
    "        print(f'Pressure level data found, defaulting to {first_p}')\n",
    "        data1 = data1.sel(pressure_level=first_p)\n",
    "        p = first_p\n",
    "    var = data1.name\n",
    "    fig=plt.figure(figsize=(12,8))\n",
    "    ax = plt.axes(projection=ccrs.PlateCarree())\n",
    "    ax.coastlines(color='black')\n",
    "    ax.gridlines(draw_labels=True)\n",
    "    ax.add_feature(\n",
    "        cfeature.LAND, \n",
    "        facecolor='palegoldenrod',\n",
    "        zorder=0                 # draw behind contours\n",
    "    )\n",
    "\n",
    "    ax.add_feature(\n",
    "        cfeature.OCEAN, \n",
    "        facecolor='lightblue',\n",
    "        zorder=0\n",
    "    )\n",
    "    # Plot each cyclone track\n",
    "    for index in zip(indices1.lon, indices1.lat, indices1.msl):\n",
    "        mslval = round(index[2]/100)\n",
    "        ax[0].text(index[0], index[1], 'L', c='red', fontsize=15, ha='center', va='center', fontweight='bold', zorder=4)\n",
    "        ax[0].text(index[0], index[1]-1.2, mslval, c='red', fontsize=10, ha='center', va='top', fontweight='bold', zorder=4)\n",
    "    for index in zip(indices2.lon, indices2.lat, indices2.msl):\n",
    "        mslval = round(index[2]/100)\n",
    "        ax[0].text(index[0], index[1], 'H', c='blue', fontsize=15, ha='center', va='center', fontweight='bold', zorder=4)\n",
    "        ax[0].text(index[0], index[1]-1.2, mslval, c='blue', fontsize=10, ha='center', va='top', fontweight='bold', zorder=4)\n",
    "    im = ax.pcolormesh(\n",
    "        data1['longitude'],\n",
    "        data1['latitude'],\n",
    "        data1,  \n",
    "        transform=ccrs.PlateCarree(),\n",
    "        cmap=cmap1,\n",
    "        linewidths=1,\n",
    "        zorder=1,\n",
    "        vmin=vmin1,\n",
    "        vmax=vmax1\n",
    "    )\n",
    "    cbar = plt.colorbar(im, orientation='horizontal', pad=0.05, aspect=50)\n",
    "    cbar.set_label(f'{var}, {data1.units}')\n",
    "    #ax.clabel(im, inline=True, fontsize=8, fmt=\"%.0f\")\n",
    "    ax.set_extent([-175, -30, 20, 75], crs=ccrs.PlateCarree())\n",
    "    ax.set_title(f'{var}, time = {output_FindData[2]}')\n",
    "    #plt.savefig('test.jpg', bbox_inches='tight')\n",
    "    plt.savefig(f'plots/random/{var}{p}_{output_FindData[2]}.png', bbox_inches='tight')\n",
    "    plt.show()"
   ]
  },
  {
   "cell_type": "code",
   "execution_count": 8,
   "id": "7f0c1760-0edf-4d23-af5c-2ed8b77fef22",
   "metadata": {},
   "outputs": [],
   "source": [
    "## plots two panel contour and gradient map of MSL & variable of choice data data (takes output of findDataAtTime functions for both msl and the variable)\n",
    "\n",
    "def plotMSLAndGradAtTime_twopanel(output_FindData, output_FindData1, cmap1, vmin1=None, vmax1=None, bounds=[-175, -30, 20, 75]):\n",
    "    indices1 = output_FindData[0]\n",
    "    indices2 = output_FindData[1]\n",
    "    data1 = output_FindData[2]\n",
    "    data2 = output_FindData1[2]\n",
    "    p = None\n",
    "    if 'pressure_level' in list(data2.coords):\n",
    "        first_p = data2.pressure_level.data[0]\n",
    "        print(f'Pressure level data found, defaulting to {first_p}')\n",
    "        data2 = data2.sel(pressure_level=first_p)\n",
    "        p = first_p\n",
    "    var = data2.name\n",
    "    fig, axes = plt.subplots(\n",
    "    nrows=2, ncols=1,\n",
    "    subplot_kw={'projection': ccrs.PlateCarree()},\n",
    "    figsize=(18, 14)\n",
    "    )\n",
    "    #ax.stock_img()\n",
    "    axes[0].coastlines(color='gray')\n",
    "    axes[0].gridlines(draw_labels=True)\n",
    "    axes[1].coastlines(color='gray')\n",
    "    axes[1].gridlines(draw_labels=True)\n",
    "    axes[0].add_feature(\n",
    "        cfeature.LAND, \n",
    "        facecolor='palegoldenrod',   # any Matplotlib color\n",
    "        zorder=0                 \n",
    "    )\n",
    "\n",
    "    axes[0].add_feature(\n",
    "        cfeature.OCEAN, \n",
    "        facecolor='lightblue',\n",
    "        zorder=0\n",
    "    )\n",
    "    axes[0].add_feature(\n",
    "        cfeature.LAKES, \n",
    "        facecolor='lightblue',\n",
    "        zorder=0\n",
    "    )\n",
    "    axes[0].add_feature(\n",
    "        cfeature.BORDERS, \n",
    "        facecolor='gray',\n",
    "        zorder=0\n",
    "    )\n",
    "    axes[1].add_feature(\n",
    "        cfeature.BORDERS, \n",
    "        facecolor='gray',\n",
    "        zorder=0\n",
    "    )\n",
    "    axes[0].add_feature(\n",
    "        cfeature.RIVERS, \n",
    "        facecolor='lightblue',\n",
    "        zorder=0\n",
    "    )\n",
    "    # basic stats\n",
    "    msl_hpa = (data1 / 100.).values\n",
    "    lon = data1['longitude'].values\n",
    "    lat = data1['latitude'].values\n",
    "    vmin = float(np.nanmin(msl_hpa))\n",
    "    vmax = float(np.nanmax(msl_hpa))\n",
    "\n",
    "    \n",
    "    coarse_step = 4.0    # coarse contour spacing (hPa)\n",
    "    fine_step   = 4.0    # fine contour spacing near minima (hPa)\n",
    "    fine_range  = 12.0   # create finer spacing for values within (vmin, vmin+fine_range)\n",
    "\n",
    "    # make coarse levels (descending or ascending doesn't matter for list)\n",
    "    coarse_levels = np.arange(np.floor(vmin - 0.5*coarse_step),\n",
    "                              np.ceil(vmax + 0.5*coarse_step),\n",
    "                              coarse_step)\n",
    "\n",
    "    # make fine levels near minima\n",
    "    fine_levels = np.arange(np.floor(vmin - 0.5*fine_step),\n",
    "                            vmin + fine_range + 0.0001,\n",
    "                            fine_step)\n",
    "\n",
    "    # combine, remove duplicates and sort\n",
    "    levels = np.unique(np.concatenate([coarse_levels, fine_levels]))\n",
    "    levels = np.sort(levels)\n",
    "    # Plot center of each track at time t\n",
    "    for index in zip(indices1.lon, indices1.lat, indices1.msl):\n",
    "        mslval = round(index[2]/100)\n",
    "        axes[0].text(index[0], index[1], 'L', c='red', fontsize=15, ha='center', va='center', fontweight='bold', zorder=4)\n",
    "        axes[0].text(index[0], index[1]-1.2, mslval, c='red', fontsize=10, ha='center', va='top', fontweight='bold', zorder=4)\n",
    "    for index in zip(indices2.lon, indices2.lat, indices2.msl):\n",
    "        mslval = round(index[2]/100)\n",
    "        axes[0].text(index[0], index[1], 'H', c='blue', fontsize=15, ha='center', va='center', fontweight='bold', zorder=4)\n",
    "        axes[0].text(index[0], index[1]-1.2, mslval, c='blue', fontsize=10, ha='center', va='top', fontweight='bold', zorder=4)\n",
    "    for index in zip(indices1.lon, indices1.lat, indices1.msl):\n",
    "        mslval = round(index[2]/100)\n",
    "        axes[1].text(index[0], index[1], 'L', c='red', fontsize=15, ha='center', va='center', fontweight='bold', zorder=4)\n",
    "        axes[1].text(index[0], index[1]-1.2, mslval, c='red', fontsize=10, ha='center', va='top', fontweight='bold', zorder=4)\n",
    "    for index in zip(indices2.lon, indices2.lat, indices2.msl):\n",
    "        mslval = round(index[2]/100)\n",
    "        axes[1].text(index[0], index[1], 'H', c='blue', fontsize=15, ha='center', va='center', fontweight='bold', zorder=4)\n",
    "        axes[1].text(index[0], index[1]-1.2, mslval, c='blue', fontsize=10, ha='center', va='top', fontweight='bold', zorder=4)\n",
    "    contour = axes[0].contour(\n",
    "        data1['longitude'],\n",
    "        data1['latitude'],\n",
    "        data1 / 100,  # convert from Pa to hPa \n",
    "        levels=levels,\n",
    "        transform=ccrs.PlateCarree(),\n",
    "        colors='black',\n",
    "        linewidths=1,\n",
    "        zorder=1\n",
    "    )\n",
    "    im = axes[1].pcolormesh(\n",
    "        data2['longitude'],\n",
    "        data2['latitude'],\n",
    "        data2,  \n",
    "        transform=ccrs.PlateCarree(),\n",
    "        cmap=cmap1,\n",
    "        linewidths=1,\n",
    "        zorder=1,\n",
    "        vmin=vmin1,\n",
    "        vmax=vmax1\n",
    "    )\n",
    "    axes[0].clabel(contour, inline=True, fontsize=8, fmt=\"%.0f\",zorder=3)\n",
    "    axes[0].set_extent(bounds, crs=ccrs.PlateCarree())\n",
    "    axes[0].set_title(f'msl, time = {output_FindData[3]}')\n",
    "    #cbar = fig.colorbar(im, ax=axes[1], orientation='horizontal', pad=0.05, aspect=50, fraction=0.03)\n",
    "    cb_ax = inset_axes(axes[1], width=\"100%\", height=\"5%\", loc='lower center', borderpad=-3.5)\n",
    "    cbar = plt.colorbar(im, cax=cb_ax, orientation='horizontal')\n",
    "    cbar.set_label(f'{var}_{first_p}, {data2.units}')\n",
    "    #ax.clabel(im, inline=True, fontsize=8, fmt=\"%.0f\")\n",
    "    axes[1].set_extent(bounds, crs=ccrs.PlateCarree())\n",
    "    #axes[1].set_title(f'{var}, time = {output_FindData[3]}')\n",
    "    #plt.savefig('test.jpg', bbox_inches='tight')\n",
    "    plt.savefig(f'plots/random/msl_{var}_2panel_{output_FindData[3]}.png', bbox_inches='tight')\n",
    "    plt.show()"
   ]
  },
  {
   "cell_type": "code",
   "execution_count": 9,
   "id": "2f15cec2-20cb-401d-8ff9-5b9d0206d24d",
   "metadata": {},
   "outputs": [],
   "source": [
    "start1 = pd.Timestamp(\"2015-04-02 00:00:00\")"
   ]
  },
  {
   "cell_type": "code",
   "execution_count": 188,
   "id": "8a759e98-45d0-45ec-bb0c-cbec83715485",
   "metadata": {},
   "outputs": [],
   "source": [
    "end1 = pd.Timestamp(\"2015-04-05 00:00:00\")"
   ]
  },
  {
   "cell_type": "code",
   "execution_count": 10,
   "id": "f99e465c-9f84-4e3c-b50f-62e9edd20171",
   "metadata": {},
   "outputs": [],
   "source": [
    "## creates and saves png frames using twopanel function starting at start and ending at end in 3 hour increments\n",
    "\n",
    "def createGifFrames_twopanel(start, end, tracks_c, tracks_ac, data1, data2, var, cmap1, vmin1=None, vmax1=None, bounds=[-175, -30, 20, 75]):\n",
    "    for time in pd.date_range(start=start, end=end, freq='3h'):\n",
    "        print(time)\n",
    "        output1 = findDataAtTime2_timestamp(time,'msl', tracks_c, tracks_ac, data1)\n",
    "        output2 = findDataAtTime2_timestamp(time, var, tracks_c, tracks_ac, data2)\n",
    "        plotMSLAndGradAtTime_twopanel(output1, output2, cmap1=cmap1, vmin1=vmin1, vmax1=vmax1, bounds=bounds)"
   ]
  },
  {
   "cell_type": "code",
   "execution_count": 11,
   "id": "4273014b-0a0b-4fad-a6fb-9864264f80c1",
   "metadata": {},
   "outputs": [],
   "source": [
    "## same as previous but for just msl\n",
    "\n",
    "def createGifFrames_msl(start, end, tracks_c, tracks_ac, data1, bounds=[-175, -30, 20, 75]):\n",
    "    for time in pd.date_range(start=start, end=end, freq='3h'):\n",
    "        print(time)\n",
    "        output1 = findDataAtTime2_timestamp(time,'msl', tracks_c, tracks_ac, data1)\n",
    "        plotMSLAtTime2(output1, bounds=bounds)"
   ]
  },
  {
   "cell_type": "code",
   "execution_count": null,
   "id": "7cbdf677-f5f8-40a4-815b-a496910cee3a",
   "metadata": {},
   "outputs": [],
   "source": [
    "createGifFrames_twopanel(start1, end1, msl_200_vo, anticyclone_150, msl_u_v, idk, var='vo', cmap1='PRGn', vmin1=-0.0004, vmax1=0.0004)"
   ]
  },
  {
   "cell_type": "code",
   "execution_count": 211,
   "id": "4fd7a735-4193-4353-a96b-e333b2f73201",
   "metadata": {},
   "outputs": [
    {
     "name": "stdout",
     "output_type": "stream",
     "text": [
      "✅ GIF saved as animation_2.gif\n"
     ]
    }
   ],
   "source": [
    "## creates gif from frames\n",
    "\n",
    "folder = \"plots/random/frames3\"\n",
    "output_gif = \"animation_2.gif\"\n",
    "\n",
    "images = sorted(\n",
    "    [img for img in os.listdir(folder) if img.endswith((\".png\", \".jpg\"))]\n",
    ")\n",
    "\n",
    "frames = []\n",
    "for img_name in images:\n",
    "    img_path = os.path.join(folder, img_name)\n",
    "    frames.append(imageio.imread(img_path))\n",
    "\n",
    "imageio.mimsave(output_gif, frames, duration=250, loop=0)\n",
    "\n",
    "print(\"✅ GIF saved as\", output_gif)"
   ]
  },
  {
   "cell_type": "code",
   "execution_count": 207,
   "id": "43690a94-9851-4e69-b035-c362de46063b",
   "metadata": {},
   "outputs": [],
   "source": [
    "## helper function to make frames format fit ffmpeg expected style (proper aspect ratio)\n",
    "\n",
    "def make_even(im):\n",
    "    w, h = im.size\n",
    "    new_w = w + (w % 2)\n",
    "    new_h = h + (h % 2)\n",
    "    return ImageOps.pad(im, (new_w, new_h))"
   ]
  },
  {
   "cell_type": "code",
   "execution_count": 209,
   "id": "dd97ba5a-be43-4c39-8e60-454f0ffc89b1",
   "metadata": {},
   "outputs": [
    {
     "name": "stderr",
     "output_type": "stream",
     "text": [
      "IMAGEIO FFMPEG_WRITER WARNING: input image is not divisible by macro_block_size=16, resizing from (1396, 1232) to (1408, 1232) to ensure video compatibility with most codecs and players. To prevent resizing, make your input image divisible by the macro_block_size or set the macro_block_size to 1 (risking incompatibility).\n",
      "[swscaler @ 0x557ff3980e40] Warning: data is not aligned! This can lead to a speed loss\n"
     ]
    }
   ],
   "source": [
    "## make mp4 (instead of gif)\n",
    "\n",
    "\n",
    "folder = \"plots/random/frames3\"\n",
    "output_mp4 = \"animation_mp4.mp4\"\n",
    "\n",
    "images = sorted([img for img in os.listdir(folder) if img.endswith(\".png\")])\n",
    "frames = []\n",
    "\n",
    "for img_name in images:\n",
    "    path = os.path.join(folder, img_name)\n",
    "    im = Image.open(path)\n",
    "    im = make_even(im)\n",
    "    im = im.convert(\"RGB\")       \n",
    "    frames.append(np.array(im))  \n",
    "\n",
    "imageio.mimsave(output_mp4, frames, fps=5)"
   ]
  },
  {
   "cell_type": "code",
   "execution_count": null,
   "id": "319baf58-8187-4d11-a2b8-a4df58d47c64",
   "metadata": {},
   "outputs": [],
   "source": [
    "output_FindData_1 = findDataAtTime2('2015','04','02','15','msl', msl_200_vo, anticyclone_150, msl_u_v)\n",
    "output_FindData_2 = findDataAtTime2('2015','04','02','15','vo', msl_200_vo, anticyclone_150, idk)\n"
   ]
  },
  {
   "cell_type": "code",
   "execution_count": null,
   "id": "8feccd7e-a5e0-449a-bb35-e88025b03bb8",
   "metadata": {},
   "outputs": [],
   "source": [
    "plotMSLAndGradAtTime_twopanel(output_FindData_1, output_FindData_2, 'PRGn', vmin1=-0.0004, vmax1=0.0004)"
   ]
  },
  {
   "cell_type": "code",
   "execution_count": null,
   "id": "2fe64eb7-63a0-4e2f-9883-a4578a893c21",
   "metadata": {},
   "outputs": [],
   "source": [
    "## old msl plotter, deprecated\n",
    "\n",
    "def plotMSLAtTime(output_FindData, bounds=[-175, -30, 20, 75]):\n",
    "    indices1 = output_FindData[0]\n",
    "    data1 = output_FindData[1]\n",
    "    fig=plt.figure(figsize=(12,8))\n",
    "    ax = plt.axes(projection=ccrs.PlateCarree())\n",
    "    ax.coastlines(color='gray')\n",
    "    ax.gridlines(draw_labels=True)\n",
    "    \n",
    "    ax.add_feature(\n",
    "        cfeature.LAND, \n",
    "        facecolor='palegoldenrod',   # any Matplotlib color\n",
    "        zorder=0                 \n",
    "    )\n",
    "\n",
    "    ax.add_feature(\n",
    "        cfeature.OCEAN, \n",
    "        facecolor='lightblue',\n",
    "        zorder=0\n",
    "    )\n",
    "    \n",
    "    # basic stats\n",
    "    msl_hpa = (data1 / 100.).values\n",
    "    lon = data1['longitude'].values\n",
    "    lat = data1['latitude'].values\n",
    "    vmin = float(np.nanmin(msl_hpa))\n",
    "    vmax = float(np.nanmax(msl_hpa))\n",
    "\n",
    "    \n",
    "    coarse_step = 4.0    # coarse contour spacing (hPa)\n",
    "    fine_step   = 4.0    # fine contour spacing near minima (hPa)\n",
    "    fine_range  = 12.0   # create finer spacing for values within (vmin, vmin+fine_range)\n",
    "\n",
    "    # make coarse levels (descending or ascending doesn't matter for list)\n",
    "    coarse_levels = np.arange(np.floor(vmin - 0.5*coarse_step),\n",
    "                              np.ceil(vmax + 0.5*coarse_step),\n",
    "                              coarse_step)\n",
    "\n",
    "    # make fine levels near minima\n",
    "    fine_levels = np.arange(np.floor(vmin - 0.5*fine_step),\n",
    "                            vmin + fine_range + 0.0001,\n",
    "                            fine_step)\n",
    "\n",
    "    # combine, remove duplicates and sort\n",
    "    levels = np.unique(np.concatenate([coarse_levels, fine_levels]))\n",
    "    levels = np.sort(levels)\n",
    "    # Plot center of each track at time t\n",
    "    for index in zip(indices1.lon, indices1.lat):\n",
    "        ax.text(index[0], index[1], 'L', c='red', fontsize=15, ha='center', va='center', fontweight='bold', zorder=2)\n",
    "    contour = ax.contour(\n",
    "        data1['longitude'],\n",
    "        data1['latitude'],\n",
    "        data1 / 100,  # convert from Pa to hPa \n",
    "        levels=levels,\n",
    "        transform=ccrs.PlateCarree(),\n",
    "        colors='black',\n",
    "        linewidths=1,\n",
    "        zorder=1\n",
    "    )\n",
    "\n",
    "    ax.clabel(contour, inline=True, fontsize=8, fmt=\"%.0f\")\n",
    "    ax.set_extent(bounds, crs=ccrs.PlateCarree())\n",
    "    ax.set_title(f'msl, time = {output_FindData[2]}')\n",
    "    #plt.savefig('test.jpg', bbox_inches='tight')\n",
    "    plt.savefig(f'plots/random/msl_{output_FindData[2]}.png', bbox_inches='tight')\n",
    "    plt.show()"
   ]
  },
  {
   "cell_type": "code",
   "execution_count": null,
   "id": "26a301b2-adcd-4e50-b6f4-1314c352269f",
   "metadata": {},
   "outputs": [],
   "source": [
    "## old grad plotter, deprecated\n",
    "\n",
    "def plotGRADAtTime(output_FindData, cmap1, vmin1=None, vmax1=None):\n",
    "    indices1 = output_FindData[0]\n",
    "    data1 = output_FindData[1]\n",
    "    p = None\n",
    "    if 'pressure_level' in list(data1.coords):\n",
    "        first_p = data1.pressure_level.data[0]\n",
    "        print(f'Pressure level data found, defaulting to {first_p}')\n",
    "        data1 = data1.sel(pressure_level=first_p)\n",
    "        p = first_p\n",
    "    var = data1.name\n",
    "    fig=plt.figure(figsize=(12,8))\n",
    "    ax = plt.axes(projection=ccrs.PlateCarree())\n",
    "    ax.coastlines(color='black')\n",
    "    ax.gridlines(draw_labels=True)\n",
    "    ax.add_feature(\n",
    "        cfeature.LAND, \n",
    "        facecolor='palegoldenrod',\n",
    "        zorder=0                 # draw behind contours\n",
    "    )\n",
    "\n",
    "    ax.add_feature(\n",
    "        cfeature.OCEAN, \n",
    "        facecolor='lightblue',\n",
    "        zorder=0\n",
    "    )\n",
    "    # Plot each cyclone track\n",
    "    for index in zip(indices1.lon, indices1.lat):\n",
    "        ax.scatter(index[0], index[1], c='red', zorder=2)\n",
    "    im = ax.pcolormesh(\n",
    "        data1['longitude'],\n",
    "        data1['latitude'],\n",
    "        data1,  \n",
    "        transform=ccrs.PlateCarree(),\n",
    "        cmap=cmap1,\n",
    "        linewidths=1,\n",
    "        zorder=1,\n",
    "        vmin=vmin1,\n",
    "        vmax=vmax1\n",
    "    )\n",
    "    cbar = plt.colorbar(im, orientation='horizontal', pad=0.05, aspect=50)\n",
    "    cbar.set_label(f'{var}, {data1.units}')\n",
    "    #ax.clabel(im, inline=True, fontsize=8, fmt=\"%.0f\")\n",
    "    ax.set_extent([-175, -30, 20, 75], crs=ccrs.PlateCarree())\n",
    "    ax.set_title(f'{var}, time = {output_FindData[2]}')\n",
    "    #plt.savefig('test.jpg', bbox_inches='tight')\n",
    "    plt.savefig(f'plots/random/{var}{p}_{output_FindData[2]}.png', bbox_inches='tight')\n",
    "    plt.show()"
   ]
  },
  {
   "cell_type": "code",
   "execution_count": null,
   "id": "b18c3f2b-d055-4f94-8805-836813670065",
   "metadata": {},
   "outputs": [],
   "source": [
    "## ## old msl and grad plotter, deprecated\n",
    "\n",
    "def plotMSLAndGradAtTime(output_FindData1, output_FindData2, cmap1, vmin1=None, vmax1=None, bounds=[-175, -30, 20, 75]):\n",
    "    indices1 = output_FindData1[0]\n",
    "    data1 = output_FindData1[1]\n",
    "    data2 = output_FindData2[1]\n",
    "    p = None\n",
    "    if 'pressure_level' in list(data2.coords):\n",
    "        first_p = data2.pressure_level.data[0]\n",
    "        print(f'Pressure level data found, defaulting to {first_p}')\n",
    "        data2 = data2.sel(pressure_level=first_p)\n",
    "        p = first_p\n",
    "    #return data2\n",
    "    var = data2.name\n",
    "    fig=plt.figure(figsize=(12,8))\n",
    "    ax = plt.axes(projection=ccrs.PlateCarree())\n",
    "    ax.coastlines(color='black', linewidth=0.5)\n",
    "    ax.gridlines(draw_labels=True)\n",
    "    ax.add_feature(\n",
    "        cfeature.LAND, \n",
    "        facecolor='palegoldenrod',   # any Matplotlib color\n",
    "        zorder=0                 # draw behind contours\n",
    "    )\n",
    "\n",
    "    ax.add_feature(\n",
    "        cfeature.OCEAN, \n",
    "        facecolor='lightblue',\n",
    "        zorder=0\n",
    "    )\n",
    "    # basic stats\n",
    "    msl_hpa = (data1 / 100.).values\n",
    "    lon = data1['longitude'].values\n",
    "    lat = data1['latitude'].values\n",
    "    vmin = float(np.nanmin(msl_hpa))\n",
    "    vmax = float(np.nanmax(msl_hpa))\n",
    "\n",
    "    \n",
    "    coarse_step = 4.0    # coarse contour spacing (hPa)\n",
    "    fine_step   = 4.0    # fine contour spacing near minima (hPa)\n",
    "    fine_range  = 12.0   # create finer spacing for values within (vmin, vmin+fine_range)\n",
    "\n",
    "    # make coarse levels (descending or ascending doesn't matter for list)\n",
    "    coarse_levels = np.arange(np.floor(vmin - 0.5*coarse_step),\n",
    "                              np.ceil(vmax + 0.5*coarse_step),\n",
    "                              coarse_step)\n",
    "\n",
    "    # make fine levels near minima\n",
    "    fine_levels = np.arange(np.floor(vmin - 0.5*fine_step),\n",
    "                            vmin + fine_range + 0.0001,\n",
    "                            fine_step)\n",
    "\n",
    "    # combine, remove duplicates and sort\n",
    "    levels = np.unique(np.concatenate([coarse_levels, fine_levels]))\n",
    "    levels = np.sort(levels)\n",
    "    # Plot each cyclone track\n",
    "    for index in zip(indices1.lon, indices1.lat):\n",
    "        ax.scatter(index[0], index[1], c='red', zorder=2)\n",
    "    im = ax.pcolormesh(\n",
    "        data2['longitude'],\n",
    "        data2['latitude'],\n",
    "        data2,  \n",
    "        transform=ccrs.PlateCarree(),\n",
    "        cmap=cmap1,\n",
    "        linewidths=1,\n",
    "        zorder=1,\n",
    "        vmin=vmin1,\n",
    "        vmax=vmax1\n",
    "    )\n",
    "    cbar = plt.colorbar(im, orientation='horizontal', pad=0.05, aspect=50)\n",
    "    cbar.set_label(f'{var}, {data2.units}')\n",
    "    contour = ax.contour(\n",
    "        data1['longitude'],\n",
    "        data1['latitude'],\n",
    "        data1 / 100,  # convert from Pa to hPa\n",
    "        levels=levels,\n",
    "        transform=ccrs.PlateCarree(),\n",
    "        colors='black',\n",
    "        linewidths=1,\n",
    "        zorder=1\n",
    "    )\n",
    "\n",
    "    ax.clabel(contour, inline=True, fontsize=8, fmt=\"%.0f\")\n",
    "    ax.set_extent(bounds, crs=ccrs.PlateCarree())\n",
    "    ax.set_title(f'msl (hPa) and {var}_{first_p}, time = {output_FindData1[2]}')\n",
    "    #plt.savefig('test.jpg', bbox_inches='tight')\n",
    "    plt.savefig(f'plots/random2/msl_{var}_{output_FindData1[2]}.png', bbox_inches='tight')\n",
    "    plt.show()"
   ]
  },
  {
   "cell_type": "code",
   "execution_count": 190,
   "id": "b9cd1637-8dcc-4005-a778-40d9bacbc482",
   "metadata": {},
   "outputs": [],
   "source": [
    "msl_200_vo = parse_te_tracks(\"data/TEtextfiles/StitchNodes/cyclone_SN.txt\")"
   ]
  },
  {
   "cell_type": "code",
   "execution_count": 191,
   "id": "3a86c371-f69c-476b-b917-4b472c79f46c",
   "metadata": {},
   "outputs": [],
   "source": [
    "anticyclone_150 = parse_te_tracks(\"data/TEtextfiles/StitchNodes/anticyclone_SN_3.txt\")"
   ]
  },
  {
   "cell_type": "code",
   "execution_count": 192,
   "id": "bf3512de-bd9d-409f-922c-1e7fb44d4c12",
   "metadata": {},
   "outputs": [],
   "source": [
    "msl_u_v = xr.open_dataset('/home/glach/projects/def-rfajber/shared/gabe-fall-2025/TEtracking/data/era5-raw/2015-JFMA-msl-uv.nc')"
   ]
  },
  {
   "cell_type": "code",
   "execution_count": 193,
   "id": "e432aa02-44e8-46d6-95c0-bd667bfb1f81",
   "metadata": {},
   "outputs": [],
   "source": [
    "# [-175, -30, 20, 75]"
   ]
  },
  {
   "cell_type": "code",
   "execution_count": 194,
   "id": "0dcae804-0685-4cad-95f3-832007251c4c",
   "metadata": {},
   "outputs": [],
   "source": [
    "t_q = xr.open_dataset('/home/glach/projects/def-rfajber/shared/gabe-fall-2025/TEtracking/data/era5-raw/2015-q-t-850.nc')"
   ]
  },
  {
   "cell_type": "code",
   "execution_count": 195,
   "id": "18a549c7-3667-42ce-aa8f-7ac76c189858",
   "metadata": {},
   "outputs": [],
   "source": [
    "idk = xr.open_dataset('/home/glach/projects/def-rfajber/shared/gabe-fall-2025/TEtracking/data/era5-raw/2015-v-300.nc')"
   ]
  },
  {
   "cell_type": "code",
   "execution_count": 196,
   "id": "c1f35212-4778-4a0f-9b9a-ca306542a6b4",
   "metadata": {},
   "outputs": [],
   "source": [
    "idk2 = xr.open_dataset('/home/glach/projects/def-rfajber/shared/gabe-fall-2025/TEtracking/data/era5-raw/vort-2015-JFMA.nc')"
   ]
  },
  {
   "cell_type": "code",
   "execution_count": null,
   "id": "6f835208-c260-4d38-afe2-4843f693edf0",
   "metadata": {},
   "outputs": [],
   "source": [
    "findDataAtTime('2015','01','18','06','msl', msl_200_vo, msl_u_v)[1].units"
   ]
  },
  {
   "cell_type": "code",
   "execution_count": null,
   "id": "bbf83264-e949-4fbe-8cf1-b3e3390700fe",
   "metadata": {},
   "outputs": [],
   "source": [
    "### general case. working as intended (i think)"
   ]
  },
  {
   "cell_type": "code",
   "execution_count": null,
   "id": "1f98d98b-563f-462c-a62f-297da5ceec86",
   "metadata": {},
   "outputs": [],
   "source": [
    "findDataAtTime2('2015','04','02','15','msl', msl_200_vo, anticyclone_150, msl_u_v)[3]"
   ]
  },
  {
   "cell_type": "code",
   "execution_count": null,
   "id": "d1331f79-6672-4ac5-898a-9e04b2f3ec22",
   "metadata": {},
   "outputs": [],
   "source": [
    "output_FindData_1 = findDataAtTime2('2015','04','02','15','msl', msl_200_vo, anticyclone_150, msl_u_v)\n",
    "output_FindData_2 = findDataAtTime2('2015','04','02','15','t', msl_200_vo, anticyclone_150, t_q)\n"
   ]
  },
  {
   "cell_type": "code",
   "execution_count": null,
   "id": "7ec99caf-c559-41a5-9985-0cc336505994",
   "metadata": {},
   "outputs": [],
   "source": [
    "output_FindData_1[3]"
   ]
  },
  {
   "cell_type": "code",
   "execution_count": null,
   "id": "6240b0f7-4bdd-4706-95be-29b52da43c67",
   "metadata": {},
   "outputs": [],
   "source": [
    "plotMSLAndGradAtTime_twopanel(output_FindData_1, output_FindData_2, 'coolwarm')"
   ]
  },
  {
   "cell_type": "code",
   "execution_count": null,
   "id": "f47f1127-afc6-46c0-a12c-8d6f15aad2ba",
   "metadata": {},
   "outputs": [],
   "source": [
    "## cyclone\n",
    "\n",
    "plotMSLAtTime2(findDataAtTime2('2015','04','02','15','msl', msl_200_vo, anticyclone_150, msl_u_v))"
   ]
  },
  {
   "cell_type": "code",
   "execution_count": null,
   "id": "c9dfa3ac-9d16-4bdb-819d-9d012b8be930",
   "metadata": {},
   "outputs": [],
   "source": [
    "## cyclone\n",
    "\n",
    "plotMSLAtTime2(findDataAtTime2('2015','04','02','15','msl', msl_200_vo, anticyclone_150, msl_u_v))"
   ]
  },
  {
   "cell_type": "code",
   "execution_count": null,
   "id": "0f275695-c919-4864-bf83-e354da166f86",
   "metadata": {},
   "outputs": [],
   "source": [
    "## anticyclone\n",
    "\n",
    "plotMSLAtTime(findDataAtTime('2015','01','18','06','msl', anticyclone_150, msl_u_v))"
   ]
  },
  {
   "cell_type": "code",
   "execution_count": null,
   "id": "c4c5eeeb-7170-4ef2-b9a3-24d9e078d834",
   "metadata": {},
   "outputs": [],
   "source": [
    "## cyclone, u10 wind\n",
    "\n",
    "plotGRADAtTime(findDataAtTime('2015','01','18','06','u10', msl_200_vo, msl_u_v), 'viridis')"
   ]
  },
  {
   "cell_type": "code",
   "execution_count": null,
   "id": "b2ead53a-6acf-4c28-be10-09f3eff616f7",
   "metadata": {},
   "outputs": [],
   "source": [
    "## cyclone, t 850\n",
    "\n",
    "plotGRADAtTime(findDataAtTime('2015','01','18','06','t', msl_200_vo, t_q), 'coolwarm')"
   ]
  },
  {
   "cell_type": "code",
   "execution_count": null,
   "id": "f00fc1bc-9ff4-4f47-87e7-6a0848143028",
   "metadata": {},
   "outputs": [],
   "source": [
    "msl_200_vo[msl_200_vo['msl'] == msl_200_vo.msl.min()]"
   ]
  },
  {
   "cell_type": "code",
   "execution_count": null,
   "id": "6b33fcf8-4377-4542-bffe-8f68a52a83ec",
   "metadata": {},
   "outputs": [],
   "source": [
    "## unusual case\n",
    "\n",
    "plotMSLAtTime(findDataAtTime('2015','04','02','00','msl', msl_200_vo, msl_u_v))"
   ]
  },
  {
   "cell_type": "code",
   "execution_count": null,
   "id": "2b41f941-bb2c-4dee-851d-fcaf963c8e5b",
   "metadata": {},
   "outputs": [],
   "source": [
    "days = np.array(['02', '03'])\n",
    "hours = np.array(['00', '03', '06', '09', '12', '15', '18', '21'])"
   ]
  },
  {
   "cell_type": "code",
   "execution_count": null,
   "id": "f97ea7ae-51ab-4791-ba60-33d1320c0366",
   "metadata": {},
   "outputs": [],
   "source": [
    "for day in days: \n",
    "    for hour in hours:\n",
    "        plotMSLAtTime(findDataAtTime('2015','04',day,hour,'msl', msl_200_vo, msl_u_v))"
   ]
  },
  {
   "cell_type": "code",
   "execution_count": null,
   "id": "78265312-327b-448f-9f2d-10abb6cd4977",
   "metadata": {},
   "outputs": [],
   "source": [
    "## unusual case\n",
    "\n",
    "plotMSLAtTime(findDataAtTime('2015','04','04','00','msl', msl_200_vo, msl_u_v))"
   ]
  },
  {
   "cell_type": "code",
   "execution_count": null,
   "id": "2701abbb-910a-41e1-865a-37b14da74290",
   "metadata": {},
   "outputs": [],
   "source": [
    "days = np.array(['13', '14'])\n",
    "hours = np.array(['00', '03', '06', '09', '12', '15', '18', '21'])"
   ]
  },
  {
   "cell_type": "code",
   "execution_count": null,
   "id": "fed48099-db3d-4741-9445-c159d07a2239",
   "metadata": {},
   "outputs": [],
   "source": [
    "for day in days: \n",
    "    for hour in hours:\n",
    "        plotMSLAtTime(findDataAtTime('2015','03',day,hour,'msl', anticyclone_150, msl_u_v))"
   ]
  },
  {
   "cell_type": "code",
   "execution_count": null,
   "id": "f92e00c7-6fc4-4253-b186-db0e9acbefee",
   "metadata": {},
   "outputs": [],
   "source": [
    "## cyclone, t 850\n",
    "\n",
    "plotGRADAtTime(findDataAtTime('2015','04','02','15','t', msl_200_vo, t_q), 'coolwarm',250,290)"
   ]
  },
  {
   "cell_type": "code",
   "execution_count": null,
   "id": "7dae943b-0650-4f87-a119-baaf39601c01",
   "metadata": {},
   "outputs": [],
   "source": [
    "## cyclone, t 850\n",
    "\n",
    "plotGRADAtTime(findDataAtTime('2015','04','02','15','vo', msl_200_vo, idk), 'viridis', -0.0001, 0.0005)"
   ]
  },
  {
   "cell_type": "code",
   "execution_count": null,
   "id": "c55b4790-5cf4-420d-8119-8ee309cd096f",
   "metadata": {},
   "outputs": [],
   "source": [
    "## cyclone, t 850\n",
    "\n",
    "plotGRADAtTime(findDataAtTime('2015','04','02','15','vo', msl_200_vo, idk2), 'viridis', -0.0002, 0.0004)"
   ]
  },
  {
   "cell_type": "code",
   "execution_count": null,
   "id": "efdc4f4a-8958-4f71-8741-694c5b04b237",
   "metadata": {},
   "outputs": [],
   "source": [
    "tp_cp = xr.open_dataset('/home/glach/projects/def-rfajber/shared/gabe-fall-2025/TEtracking/data/era5-raw/2015-tp-cp.nc')"
   ]
  },
  {
   "cell_type": "code",
   "execution_count": null,
   "id": "6b0f162a-8d66-438e-9024-e64217dcaa2e",
   "metadata": {},
   "outputs": [],
   "source": [
    "base_cmap = plt.get_cmap('gist_ncar')\n",
    "cmap_colors = base_cmap(np.arange(base_cmap.N))\n",
    "cmap_colors[0, -1] = 0  \n",
    "transparent_cmap = mcolors.ListedColormap(cmap_colors)"
   ]
  },
  {
   "cell_type": "code",
   "execution_count": null,
   "id": "06a8cf19-4e3f-4ab9-b6c6-901ed3fe66d0",
   "metadata": {},
   "outputs": [],
   "source": [
    "## cyclone, t 850\n",
    "\n",
    "plotGRADAtTime(findDataAtTime('2015','04','02','15','tp', msl_200_vo, tp_cp), transparent_cmap)"
   ]
  },
  {
   "cell_type": "markdown",
   "id": "39db8f45-df5a-4362-b370-d3dbb69b583c",
   "metadata": {},
   "source": [
    "##########################"
   ]
  },
  {
   "cell_type": "code",
   "execution_count": null,
   "id": "49f4799f-a3b9-49bb-b055-da0ac793325b",
   "metadata": {},
   "outputs": [],
   "source": [
    "## anticyclone\n",
    "\n",
    "plotMSLAtTime(findDataAtTime('2015','03','14','12','msl', anticyclone_150, msl_u_v))"
   ]
  },
  {
   "cell_type": "code",
   "execution_count": null,
   "id": "7160e9ea-830f-453d-9c8e-d90114e24c2e",
   "metadata": {},
   "outputs": [],
   "source": [
    "## cyclone, t 850\n",
    "\n",
    "plotGRADAtTime(findDataAtTime('2015','03','14','12','t', anticyclone_150, t_q), 'coolwarm',250,290)"
   ]
  },
  {
   "cell_type": "code",
   "execution_count": null,
   "id": "63ace17f-3e99-42eb-a463-b6ac288425a5",
   "metadata": {},
   "outputs": [],
   "source": [
    "## cyclone, t 850\n",
    "\n",
    "plotGRADAtTime(findDataAtTime('2015','03','14','12','vo', anticyclone_150, idk), 'viridis', -0.0001, 0.0005)"
   ]
  },
  {
   "cell_type": "code",
   "execution_count": null,
   "id": "cb1aca0a-3823-4ab3-8515-5acdbc042899",
   "metadata": {},
   "outputs": [],
   "source": [
    "## cyclone, t 850\n",
    "\n",
    "plotGRADAtTime(findDataAtTime('2015','03','14','12','vo', anticyclone_150, idk2), 'viridis', -0.0002, 0.0004)"
   ]
  },
  {
   "cell_type": "code",
   "execution_count": null,
   "id": "24a55ab5-93c1-4d32-bc71-36a7a27d9928",
   "metadata": {},
   "outputs": [],
   "source": [
    "## cyclone, t 850\n",
    "\n",
    "plotGRADAtTime(findDataAtTime('2015','03','14','12','tp', anticyclone_150, tp_cp), transparent_cmap)"
   ]
  },
  {
   "cell_type": "code",
   "execution_count": null,
   "id": "9f0965c0-0272-4cce-a617-40830368c7b5",
   "metadata": {},
   "outputs": [],
   "source": [
    "outp1 = (findDataAtTime('2015','04','02','15','msl', msl_200_vo, msl_u_v))"
   ]
  },
  {
   "cell_type": "code",
   "execution_count": null,
   "id": "800db85e-f350-413e-a5d8-470e9726275d",
   "metadata": {},
   "outputs": [],
   "source": [
    "outp2 = (findDataAtTime('2015','04','02','15','t', msl_200_vo, t_q))"
   ]
  },
  {
   "cell_type": "code",
   "execution_count": null,
   "id": "788ef3b0-b38d-49a5-bdfd-6680271e9285",
   "metadata": {},
   "outputs": [],
   "source": [
    "a = plotMSLAndGradAtTime(outp1, outp2,'coolwarm',250,290)"
   ]
  },
  {
   "cell_type": "code",
   "execution_count": null,
   "id": "a4542247-e4fd-4a02-8b83-eccb1ae4f392",
   "metadata": {},
   "outputs": [],
   "source": [
    "outp1 = (findDataAtTime('2015','04','02','15','msl', msl_200_vo, msl_u_v))"
   ]
  },
  {
   "cell_type": "code",
   "execution_count": null,
   "id": "5e386626-888c-478b-a27f-2487c2c64472",
   "metadata": {},
   "outputs": [],
   "source": [
    "outp2 = findDataAtTime('2015','04','02','15','vo', msl_200_vo, idk)"
   ]
  },
  {
   "cell_type": "code",
   "execution_count": null,
   "id": "b3c070ee-67c7-4168-b708-316dadae3744",
   "metadata": {},
   "outputs": [],
   "source": [
    "plotMSLAndGradAtTime(outp1, outp2,'viridis', -0.0001, 0.0005)"
   ]
  },
  {
   "cell_type": "code",
   "execution_count": null,
   "id": "1b2c9a36-3be4-42be-a4bc-387730a51d9c",
   "metadata": {},
   "outputs": [],
   "source": [
    "## cyclone, t 850\n",
    "\n",
    "plotGRADAtTime(findDataAtTime('2015','03','14','12','t', anticyclone_150, t_q), 'coolwarm',250,290)"
   ]
  },
  {
   "cell_type": "code",
   "execution_count": null,
   "id": "a28cccb8-5708-4bc5-ad0d-6d9a3ea4ee5a",
   "metadata": {},
   "outputs": [],
   "source": [
    "outp1_2 = findDataAtTime('2015','03','14','12','msl', anticyclone_150, msl_u_v)"
   ]
  },
  {
   "cell_type": "code",
   "execution_count": null,
   "id": "18b86c52-2e03-4a30-a873-7d766d284153",
   "metadata": {},
   "outputs": [],
   "source": [
    "outp2_2 = findDataAtTime('2015','03','14','12','t', anticyclone_150, t_q)"
   ]
  },
  {
   "cell_type": "code",
   "execution_count": null,
   "id": "f142c6df-99b5-47c4-ba0c-1bee4f5ccb55",
   "metadata": {},
   "outputs": [],
   "source": [
    "plotMSLAndGradAtTime(outp1_2, outp2_2,'coolwarm',250,290)"
   ]
  },
  {
   "cell_type": "code",
   "execution_count": null,
   "id": "9912bcf0-cdb3-4a88-a63b-78827e843da9",
   "metadata": {},
   "outputs": [],
   "source": [
    "outp1_2 = findDataAtTime('2015','03','14','12','msl', anticyclone_150, msl_u_v)"
   ]
  },
  {
   "cell_type": "code",
   "execution_count": null,
   "id": "3dd66275-b43e-4d8a-8270-10718ceae9ca",
   "metadata": {},
   "outputs": [],
   "source": [
    "outp2_2 = findDataAtTime('2015','03','14','12','vo', anticyclone_150, idk)"
   ]
  },
  {
   "cell_type": "code",
   "execution_count": null,
   "id": "9d2c9381-e64e-4e3c-ab31-809550fbd372",
   "metadata": {},
   "outputs": [],
   "source": [
    "plotMSLAndGradAtTime(outp1_2, outp2_2,'viridis', -0.0001, 0.0005)"
   ]
  },
  {
   "cell_type": "code",
   "execution_count": null,
   "id": "2ad61a33-714b-4832-ba6b-877d3adab961",
   "metadata": {},
   "outputs": [],
   "source": []
  }
 ],
 "metadata": {
  "kernelspec": {
   "display_name": "Condabase2",
   "language": "python",
   "name": "base"
  },
  "language_info": {
   "codemirror_mode": {
    "name": "ipython",
    "version": 3
   },
   "file_extension": ".py",
   "mimetype": "text/x-python",
   "name": "python",
   "nbconvert_exporter": "python",
   "pygments_lexer": "ipython3",
   "version": "3.11.6"
  }
 },
 "nbformat": 4,
 "nbformat_minor": 5
}
